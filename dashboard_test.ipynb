{
 "cells": [
  {
   "cell_type": "code",
   "execution_count": 2,
   "metadata": {},
   "outputs": [],
   "source": [
    "from flask import Flask, render_template,request\n",
    "import plotly\n",
    "import plotly.graph_objs as go\n",
    "\n",
    "import pandas as pd\n",
    "import numpy as np\n",
    "import json\n",
    "\n",
    "import webbrowser\n",
    "from threading import Timer\n",
    "import logging"
   ]
  },
  {
   "cell_type": "code",
   "execution_count": 3,
   "metadata": {},
   "outputs": [],
   "source": [
    "budget = pd.read_csv('data/clean_budget.csv')\n",
    "satellite = pd.read_csv('data/clean_satellite.csv')"
   ]
  },
  {
   "cell_type": "code",
   "execution_count": 3,
   "metadata": {},
   "outputs": [
    {
     "data": {
      "text/html": [
       "<div>\n",
       "<style scoped>\n",
       "    .dataframe tbody tr th:only-of-type {\n",
       "        vertical-align: middle;\n",
       "    }\n",
       "\n",
       "    .dataframe tbody tr th {\n",
       "        vertical-align: top;\n",
       "    }\n",
       "\n",
       "    .dataframe thead th {\n",
       "        text-align: right;\n",
       "    }\n",
       "</style>\n",
       "<table border=\"1\" class=\"dataframe\">\n",
       "  <thead>\n",
       "    <tr style=\"text-align: right;\">\n",
       "      <th></th>\n",
       "      <th>application</th>\n",
       "      <th>year</th>\n",
       "      <th>value</th>\n",
       "      <th>country</th>\n",
       "      <th>program_type</th>\n",
       "      <th>program_name</th>\n",
       "      <th>unit</th>\n",
       "      <th>currency</th>\n",
       "    </tr>\n",
       "  </thead>\n",
       "  <tbody>\n",
       "    <tr>\n",
       "      <th>3756</th>\n",
       "      <td>Earth Observation</td>\n",
       "      <td>2017</td>\n",
       "      <td>794753.561148</td>\n",
       "      <td>Japan</td>\n",
       "      <td>Defence</td>\n",
       "      <td>National program</td>\n",
       "      <td>million</td>\n",
       "      <td>USD</td>\n",
       "    </tr>\n",
       "  </tbody>\n",
       "</table>\n",
       "</div>"
      ],
      "text/plain": [
       "            application  year          value country program_type  \\\n",
       "3756  Earth Observation  2017  794753.561148   Japan      Defence   \n",
       "\n",
       "          program_name     unit currency  \n",
       "3756  National program  million      USD  "
      ]
     },
     "execution_count": 3,
     "metadata": {},
     "output_type": "execute_result"
    }
   ],
   "source": [
    "budget[budget.value == budget.value.max()]"
   ]
  },
  {
   "cell_type": "code",
   "execution_count": 25,
   "metadata": {
    "scrolled": false
   },
   "outputs": [
    {
     "name": "stdout",
     "output_type": "stream",
     "text": [
      " * Serving Flask app \"__main__\" (lazy loading)\n",
      " * Environment: production\n",
      "   WARNING: This is a development server. Do not use it in a production deployment.\n",
      "   Use a production WSGI server instead.\n",
      " * Debug mode: off\n"
     ]
    },
    {
     "name": "stderr",
     "output_type": "stream",
     "text": [
      " * Running on http://127.0.0.1:2000/ (Press CTRL+C to quit)\n"
     ]
    },
    {
     "name": "stdout",
     "output_type": "stream",
     "text": [
      "Budget\n"
     ]
    },
    {
     "name": "stderr",
     "output_type": "stream",
     "text": [
      "127.0.0.1 - - [17/Jan/2021 16:19:31] \"\u001b[37mGET / HTTP/1.1\u001b[0m\" 200 -\n"
     ]
    },
    {
     "name": "stdout",
     "output_type": "stream",
     "text": [
      "Satellite\n"
     ]
    },
    {
     "name": "stderr",
     "output_type": "stream",
     "text": [
      "127.0.0.1 - - [17/Jan/2021 16:19:36] \"\u001b[37mGET /plot?selected=Satellite HTTP/1.1\u001b[0m\" 200 -\n",
      "127.0.0.1 - - [17/Jan/2021 16:19:42] \"\u001b[37mGET /plot?selected=Scatter HTTP/1.1\u001b[0m\" 200 -\n",
      "127.0.0.1 - - [17/Jan/2021 16:19:45] \"\u001b[37mGET /plot?selected=Bar HTTP/1.1\u001b[0m\" 200 -\n",
      "127.0.0.1 - - [17/Jan/2021 16:19:49] \"\u001b[37mGET /plot?selected=Scatter HTTP/1.1\u001b[0m\" 200 -\n"
     ]
    }
   ],
   "source": [
    "app = Flask(__name__)\n",
    "\n",
    "@app.route('/')\n",
    "def index():\n",
    "    feature = 'Budget'\n",
    "    bar = create_plot(feature)\n",
    "    table = create_table(feature)\n",
    "    return render_template('index.html', table=table, plot=bar)\n",
    "\n",
    "\n",
    "def create_table(feature):\n",
    "    print(feature)\n",
    "    if feature == 'Satellite':\n",
    "        df = satellite\n",
    "    else:\n",
    "        df = budget\n",
    "    table = go.Figure([go.Table(\n",
    "        header=dict(\n",
    "            values=df.columns,\n",
    "            line_color='darkslategray',\n",
    "            fill_color='royalblue',\n",
    "            align=['left','center'],\n",
    "            font=dict(color='white', size=14),\n",
    "            height=40\n",
    "        ),\n",
    "        cells=dict(\n",
    "            values=[df[k].tolist() for k in df.columns],\n",
    "            align = \"left\",\n",
    "            line_color='darkslategray',\n",
    "            fill_color='whitesmoke',\n",
    "            font=dict(color='midnightblue', size=12))\n",
    "        )\n",
    "    ])\n",
    " \n",
    "    table.update_layout(\n",
    "        autosize=True,\n",
    "        height=500,\n",
    "    )\n",
    "    tableJSON = json.dumps(table, cls=plotly.utils.PlotlyJSONEncoder)\n",
    "\n",
    "    return tableJSON\n",
    "\n",
    "def create_plot(feature):    \n",
    "    if feature == 'Bar':\n",
    "\n",
    "        data = [\n",
    "            go.Bar(\n",
    "                x=budget['country'], # assign x as the dataframe column 'x'\n",
    "                y=budget['value']\n",
    "            )\n",
    "        ]\n",
    "    else:\n",
    "        \n",
    "        data = [go.Scatter(\n",
    "            x = budget['year'],\n",
    "            y = budget['value'],\n",
    "            mode = 'markers'\n",
    "        )]\n",
    "\n",
    "    graphJSON = json.dumps(data, cls=plotly.utils.PlotlyJSONEncoder)\n",
    "\n",
    "    return graphJSON\n",
    "\n",
    "\n",
    "@app.route('/plot', methods=['GET', 'POST'])\n",
    "def change_features():\n",
    "\n",
    "    feature = request.args['selected']\n",
    "\n",
    "    if feature == 'Satellite' or feature == 'Budget':\n",
    "        tableJSON= create_table(feature)\n",
    "        \n",
    "        return tableJSON\n",
    "        \n",
    "    if feature == 'Bar' or feature == 'Scatter':\n",
    "        graphJSON= create_plot(feature)\n",
    "\n",
    "        return graphJSON\n",
    "\n",
    "def open_browser():\n",
    "      webbrowser.open_new('http://127.0.0.1:2000/')\n",
    "\n",
    "if __name__ == '__main__':\n",
    "    Timer(1, open_browser).start();\n",
    "    app.logger.setLevel(logging.DEBUG)\n",
    "    app.run(port=2000)\n",
    "    \n",
    "    "
   ]
  },
  {
   "cell_type": "code",
   "execution_count": null,
   "metadata": {},
   "outputs": [],
   "source": []
  },
  {
   "cell_type": "code",
   "execution_count": null,
   "metadata": {},
   "outputs": [],
   "source": []
  }
 ],
 "metadata": {
  "kernelspec": {
   "display_name": "Python 3",
   "language": "python",
   "name": "python3"
  },
  "language_info": {
   "codemirror_mode": {
    "name": "ipython",
    "version": 3
   },
   "file_extension": ".py",
   "mimetype": "text/x-python",
   "name": "python",
   "nbconvert_exporter": "python",
   "pygments_lexer": "ipython3",
   "version": "3.8.3"
  }
 },
 "nbformat": 4,
 "nbformat_minor": 4
}
