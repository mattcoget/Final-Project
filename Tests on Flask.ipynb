{
 "cells": [
  {
   "cell_type": "code",
   "execution_count": 22,
   "metadata": {},
   "outputs": [
    {
     "name": "stdout",
     "output_type": "stream",
     "text": [
      " * Serving Flask app \"__main__\" (lazy loading)\n",
      " * Environment: production\n",
      "   WARNING: This is a development server. Do not use it in a production deployment.\n",
      "   Use a production WSGI server instead.\n",
      " * Debug mode: off\n"
     ]
    },
    {
     "name": "stderr",
     "output_type": "stream",
     "text": [
      " * Running on http://127.0.0.1:5000/ (Press CTRL+C to quit)\n",
      "127.0.0.1 - - [16/Jan/2021 10:20:00] \"\u001b[37mGET / HTTP/1.1\u001b[0m\" 200 -\n",
      "127.0.0.1 - - [16/Jan/2021 10:20:20] \"\u001b[37mGET / HTTP/1.1\u001b[0m\" 200 -\n",
      "127.0.0.1 - - [16/Jan/2021 10:20:43] \"\u001b[37mGET / HTTP/1.1\u001b[0m\" 200 -\n",
      "127.0.0.1 - - [16/Jan/2021 10:20:54] \"\u001b[37mGET / HTTP/1.1\u001b[0m\" 200 -\n",
      "127.0.0.1 - - [16/Jan/2021 10:21:08] \"\u001b[37mGET / HTTP/1.1\u001b[0m\" 200 -\n",
      "127.0.0.1 - - [16/Jan/2021 10:21:19] \"\u001b[37mGET / HTTP/1.1\u001b[0m\" 200 -\n",
      "127.0.0.1 - - [16/Jan/2021 10:21:22] \"\u001b[37mGET / HTTP/1.1\u001b[0m\" 200 -\n",
      "127.0.0.1 - - [16/Jan/2021 10:22:20] \"\u001b[37mGET / HTTP/1.1\u001b[0m\" 200 -\n",
      "127.0.0.1 - - [16/Jan/2021 10:23:34] \"\u001b[37mGET / HTTP/1.1\u001b[0m\" 200 -\n",
      "127.0.0.1 - - [16/Jan/2021 10:23:50] \"\u001b[37mGET / HTTP/1.1\u001b[0m\" 200 -\n",
      "127.0.0.1 - - [16/Jan/2021 10:24:31] \"\u001b[37mGET / HTTP/1.1\u001b[0m\" 200 -\n",
      "127.0.0.1 - - [16/Jan/2021 10:25:07] \"\u001b[37mGET / HTTP/1.1\u001b[0m\" 200 -\n"
     ]
    }
   ],
   "source": [
    "from flask import Flask, render_template,request\n",
    "import plotly\n",
    "import plotly.graph_objs as go\n",
    "\n",
    "import pandas as pd\n",
    "import numpy as np\n",
    "import json\n",
    "\n",
    "app = Flask(__name__)\n",
    "\n",
    "\n",
    "@app.route('/')\n",
    "def index():\n",
    "    feature = 'Bar'\n",
    "    bar = create_plot(feature)\n",
    "    return render_template('index.html', plot=bar)\n",
    "\n",
    "def create_plot(feature):\n",
    "    if feature == 'Bar':\n",
    "        N = 40\n",
    "        x = np.linspace(0, 1, N)\n",
    "        y = np.random.randn(N)\n",
    "        df = pd.DataFrame({'x': x, 'y': y}) # creating a sample dataframe\n",
    "        data = [\n",
    "            go.Bar(\n",
    "                x=df['x'], # assign x as the dataframe column 'x'\n",
    "                y=df['y']\n",
    "            )\n",
    "        ]\n",
    "    else:\n",
    "        N = 1000\n",
    "        random_x = np.random.randn(N)\n",
    "        random_y = np.random.randn(N)\n",
    "\n",
    "        # Create a trace\n",
    "        data = [go.Scatter(\n",
    "            x = random_x,\n",
    "            y = random_y,\n",
    "            mode = 'markers'\n",
    "        )]\n",
    "\n",
    "\n",
    "    graphJSON = json.dumps(data, cls=plotly.utils.PlotlyJSONEncoder)\n",
    "\n",
    "    return graphJSON\n",
    "\n",
    "@app.route('/bar', methods=['GET', 'POST'])\n",
    "def change_features():\n",
    "\n",
    "    feature = request.args['selected']\n",
    "    graphJSON= create_plot(feature)\n",
    "\n",
    "\n",
    "\n",
    "\n",
    "    return graphJSON\n",
    "\n",
    "if __name__ == '__main__':\n",
    "    app.run()"
   ]
  },
  {
   "cell_type": "code",
   "execution_count": null,
   "metadata": {},
   "outputs": [],
   "source": []
  }
 ],
 "metadata": {
  "kernelspec": {
   "display_name": "Python 3",
   "language": "python",
   "name": "python3"
  },
  "language_info": {
   "codemirror_mode": {
    "name": "ipython",
    "version": 3
   },
   "file_extension": ".py",
   "mimetype": "text/x-python",
   "name": "python",
   "nbconvert_exporter": "python",
   "pygments_lexer": "ipython3",
   "version": "3.8.3"
  }
 },
 "nbformat": 4,
 "nbformat_minor": 4
}
